{
 "cells": [
  {
   "cell_type": "code",
   "execution_count": 2,
   "metadata": {},
   "outputs": [],
   "source": [
    "import pandas as pd"
   ]
  },
  {
   "cell_type": "code",
   "execution_count": 3,
   "metadata": {},
   "outputs": [],
   "source": [
    "tbe_workshop_leads = pd.read_csv(f\"TBEWorkshopLeads.csv\")"
   ]
  },
  {
   "cell_type": "code",
   "execution_count": 4,
   "metadata": {},
   "outputs": [],
   "source": [
    "def clean_column_names(df):\n",
    "    df.columns = (\n",
    "        df.columns\n",
    "        .str.strip()\n",
    "        .str.lower()\n",
    "        .str.replace(\" \", \"_\")\n",
    "        .str.replace(\"- \", \"_\")\n",
    "    )\n",
    "\n",
    "    return df\n",
    "\n",
    "tbe_workshop_leads = clean_column_names(tbe_workshop_leads)"
   ]
  },
  {
   "cell_type": "code",
   "execution_count": 5,
   "metadata": {},
   "outputs": [],
   "source": [
    "import json\n",
    "\n",
    "\n",
    "leads_for_api = tbe_workshop_leads[[\"name\", \"email\"]]\n",
    "\n",
    "json_output = leads_for_api.to_dict(orient=\"records\")\n",
    "\n",
    "output_file = \"leads.json\"\n",
    "with open(output_file, \"w\", encoding=\"utf-8\") as f:\n",
    "    json.dump(json_output, f, indent=2)\n"
   ]
  },
  {
   "cell_type": "code",
   "execution_count": 6,
   "metadata": {},
   "outputs": [],
   "source": [
    "lead_contacts = tbe_workshop_leads[[\"mobile\"]]\n",
    "\n",
    "mobiles = lead_contacts[\"mobile\"].dropna().astype(str).tolist()\n",
    "\n",
    "# Join with commas\n",
    "mobile_line = \", \".join(mobiles)\n",
    "\n",
    "# Save to a plain text file\n",
    "with open(\"lead_contacts.txt\", \"w\") as f:\n",
    "    f.write(mobile_line)"
   ]
  },
  {
   "cell_type": "code",
   "execution_count": 7,
   "metadata": {},
   "outputs": [],
   "source": [
    "lead_emails = tbe_workshop_leads[[\"email\"]]\n",
    "lead_emails[\"email\"].to_csv(\"lead_email.txt\", index=False, header=False)\n"
   ]
  }
 ],
 "metadata": {
  "kernelspec": {
   "display_name": "venv",
   "language": "python",
   "name": "python3"
  },
  "language_info": {
   "codemirror_mode": {
    "name": "ipython",
    "version": 3
   },
   "file_extension": ".py",
   "mimetype": "text/x-python",
   "name": "python",
   "nbconvert_exporter": "python",
   "pygments_lexer": "ipython3",
   "version": "3.9.6"
  }
 },
 "nbformat": 4,
 "nbformat_minor": 2
}
