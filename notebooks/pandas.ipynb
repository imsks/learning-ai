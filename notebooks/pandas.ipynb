{
 "cells": [
  {
   "cell_type": "code",
   "execution_count": 62,
   "metadata": {},
   "outputs": [],
   "source": [
    "import pandas as pd\n",
    "import kagglehub"
   ]
  },
  {
   "cell_type": "code",
   "execution_count": 63,
   "metadata": {},
   "outputs": [],
   "source": [
    "path = kagglehub.dataset_download(\"sudalairajkumar/indian-startup-funding\")\n",
    "csv_path = f\"{path}/startup_funding.csv\""
   ]
  },
  {
   "cell_type": "code",
   "execution_count": 64,
   "metadata": {},
   "outputs": [],
   "source": [
    "df = pd.read_csv(csv_path)\n",
    "# df.head()\n",
    "# df.shape\n",
    "# df.info()"
   ]
  },
  {
   "cell_type": "code",
   "execution_count": 65,
   "metadata": {},
   "outputs": [],
   "source": [
    "# Data Cleaning\n",
    "\n",
    "# df.isnull().sum()"
   ]
  },
  {
   "cell_type": "code",
   "execution_count": 66,
   "metadata": {},
   "outputs": [],
   "source": [
    "# 1. Clean City Names\n",
    "\n",
    "df[df['City  Location'].isnull()]\n",
    "\n",
    "df['City  Location'] = df['City  Location'].str.strip().str.title()\n",
    "\n",
    "df[\"City  Location\"] = df[\"City  Location\"].replace({\n",
    "    'Delhi': 'New Delhi',\n",
    "    'Bangalore': 'Bengaluru'\n",
    "})"
   ]
  },
  {
   "cell_type": "code",
   "execution_count": 67,
   "metadata": {},
   "outputs": [],
   "source": [
    "df[\"Amount in USD\"].unique()[:20]\n",
    "\n",
    "def clean_funding(x):\n",
    "    if pd.isnull(x):\n",
    "        return 0\n",
    "    if isinstance(x, str):\n",
    "        x = x.replace(',', '')\n",
    "        if x.strip().lower() == 'undisclosed':\n",
    "            return 0\n",
    "        \n",
    "    try:\n",
    "        return float(x)\n",
    "    except:\n",
    "        return 0\n",
    "    \n",
    "df[\"Amount in USD\"] = df[\"Amount in USD\"].apply(clean_funding)"
   ]
  },
  {
   "cell_type": "code",
   "execution_count": 74,
   "metadata": {},
   "outputs": [],
   "source": [
    "df[\"Date dd/mm/yyyy\"] = pd.to_datetime(df[\"Date dd/mm/yyyy\"], errors='coerce')\n",
    "df['Year'] = df['Date dd/mm/yyyy'].dt.year\n",
    "df['Month'] = df['Date dd/mm/yyyy'].dt.month"
   ]
  },
  {
   "cell_type": "code",
   "execution_count": 75,
   "metadata": {},
   "outputs": [
    {
     "data": {
      "text/html": [
       "<div>\n",
       "<style scoped>\n",
       "    .dataframe tbody tr th:only-of-type {\n",
       "        vertical-align: middle;\n",
       "    }\n",
       "\n",
       "    .dataframe tbody tr th {\n",
       "        vertical-align: top;\n",
       "    }\n",
       "\n",
       "    .dataframe thead th {\n",
       "        text-align: right;\n",
       "    }\n",
       "</style>\n",
       "<table border=\"1\" class=\"dataframe\">\n",
       "  <thead>\n",
       "    <tr style=\"text-align: right;\">\n",
       "      <th></th>\n",
       "      <th>Startup Name</th>\n",
       "      <th>City  Location</th>\n",
       "      <th>Amount in USD</th>\n",
       "      <th>Year</th>\n",
       "    </tr>\n",
       "  </thead>\n",
       "  <tbody>\n",
       "    <tr>\n",
       "      <th>168</th>\n",
       "      <td>My OmNamo</td>\n",
       "      <td>Mumbai</td>\n",
       "      <td>1000000.0</td>\n",
       "      <td>2018.0</td>\n",
       "    </tr>\n",
       "    <tr>\n",
       "      <th>2491</th>\n",
       "      <td>Wetravelsolo</td>\n",
       "      <td>New Delhi</td>\n",
       "      <td>0.0</td>\n",
       "      <td>2015.0</td>\n",
       "    </tr>\n",
       "    <tr>\n",
       "      <th>570</th>\n",
       "      <td>Ola Cabs</td>\n",
       "      <td>Bengaluru</td>\n",
       "      <td>7700000.0</td>\n",
       "      <td>NaN</td>\n",
       "    </tr>\n",
       "    <tr>\n",
       "      <th>2166</th>\n",
       "      <td>STAGE 3</td>\n",
       "      <td>New Delhi</td>\n",
       "      <td>0.0</td>\n",
       "      <td>NaN</td>\n",
       "    </tr>\n",
       "    <tr>\n",
       "      <th>240</th>\n",
       "      <td>HomeLane</td>\n",
       "      <td>Bengaluru</td>\n",
       "      <td>3450000.0</td>\n",
       "      <td>NaN</td>\n",
       "    </tr>\n",
       "  </tbody>\n",
       "</table>\n",
       "</div>"
      ],
      "text/plain": [
       "      Startup Name City  Location  Amount in USD    Year\n",
       "168      My OmNamo         Mumbai      1000000.0  2018.0\n",
       "2491  Wetravelsolo      New Delhi            0.0  2015.0\n",
       "570       Ola Cabs      Bengaluru      7700000.0     NaN\n",
       "2166       STAGE 3      New Delhi            0.0     NaN\n",
       "240       HomeLane      Bengaluru      3450000.0     NaN"
      ]
     },
     "execution_count": 75,
     "metadata": {},
     "output_type": "execute_result"
    }
   ],
   "source": [
    "# df.head(10)\n",
    "df[['Startup Name', 'City  Location', 'Amount in USD', 'Year']].sample(5)"
   ]
  }
 ],
 "metadata": {
  "kernelspec": {
   "display_name": "venv",
   "language": "python",
   "name": "python3"
  },
  "language_info": {
   "codemirror_mode": {
    "name": "ipython",
    "version": 3
   },
   "file_extension": ".py",
   "mimetype": "text/x-python",
   "name": "python",
   "nbconvert_exporter": "python",
   "pygments_lexer": "ipython3",
   "version": "3.9.6"
  }
 },
 "nbformat": 4,
 "nbformat_minor": 2
}
